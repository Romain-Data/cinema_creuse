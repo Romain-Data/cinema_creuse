{
 "cells": [
  {
   "cell_type": "code",
   "execution_count": 1,
   "metadata": {
    "metadata": {}
   },
   "outputs": [],
   "source": [
    "import pandas as pd "
   ]
  },
  {
   "cell_type": "code",
   "execution_count": 2,
   "metadata": {
    "metadata": {}
   },
   "outputs": [
    {
     "name": "stderr",
     "output_type": "stream",
     "text": [
      "/var/folders/l2/4bhymbh53d3_vrys9v8mb6hw0000gn/T/ipykernel_31075/2957978213.py:1: DtypeWarning: Columns (4) have mixed types. Specify dtype option on import or set low_memory=False.\n",
      "  df_film = pd.read_csv('IMDb Basics Data.tsv', sep='\\t')\n"
     ]
    },
    {
     "data": {
      "text/plain": [
       "11221518"
      ]
     },
     "execution_count": 2,
     "metadata": {},
     "output_type": "execute_result"
    }
   ],
   "source": [
    "df_film = pd.read_csv('IMDb Basics Data.tsv', sep='\\t')\n",
    "len(df_film)"
   ]
  },
  {
   "cell_type": "code",
   "execution_count": 3,
   "metadata": {
    "metadata": {}
   },
   "outputs": [],
   "source": [
    "film_et_serie = df_film['titleType'].isin(['movie','tvMovie','tvSeries' ])\n",
    "df_film = df_film[film_et_serie]\n"
   ]
  },
  {
   "cell_type": "code",
   "execution_count": 4,
   "metadata": {
    "metadata": {}
   },
   "outputs": [],
   "source": [
    "df_film['genres'] = df_film['genres'].apply(lambda x : str(x).split(','))\n",
    "news = df_film['genres'].apply(lambda x : 'News' in x)\n",
    "df_film = df_film[~news]"
   ]
  },
  {
   "cell_type": "code",
   "execution_count": 5,
   "metadata": {
    "metadata": {}
   },
   "outputs": [],
   "source": [
    "talk = df_film['genres'].apply(lambda x : 'Talk-Show' in x)\n",
    "df_film = df_film[~talk]\n"
   ]
  },
  {
   "cell_type": "code",
   "execution_count": 6,
   "metadata": {
    "metadata": {}
   },
   "outputs": [],
   "source": [
    "game = df_film['genres'].apply(lambda x : 'Game-Show' in x)\n",
    "df_film = df_film[~game]\n"
   ]
  },
  {
   "cell_type": "code",
   "execution_count": 7,
   "metadata": {
    "metadata": {}
   },
   "outputs": [],
   "source": [
    "reality = df_film['genres'].apply(lambda x : 'Reality-TV' in x)\n",
    "df_film = df_film[~reality]\n"
   ]
  },
  {
   "cell_type": "code",
   "execution_count": 8,
   "metadata": {
    "metadata": {}
   },
   "outputs": [],
   "source": [
    "adulte = df_film['genres'].apply(lambda x : 'Adult' in x)\n",
    "df_film = df_film[~adulte]\n"
   ]
  },
  {
   "cell_type": "code",
   "execution_count": 9,
   "metadata": {
    "metadata": {}
   },
   "outputs": [
    {
     "data": {
      "text/plain": [
       "1039541"
      ]
     },
     "execution_count": 9,
     "metadata": {},
     "output_type": "execute_result"
    }
   ],
   "source": [
    "len(df_film)"
   ]
  },
  {
   "cell_type": "code",
   "execution_count": 10,
   "metadata": {
    "metadata": {}
   },
   "outputs": [
    {
     "data": {
      "text/html": [
       "<div>\n",
       "<style scoped>\n",
       "    .dataframe tbody tr th:only-of-type {\n",
       "        vertical-align: middle;\n",
       "    }\n",
       "\n",
       "    .dataframe tbody tr th {\n",
       "        vertical-align: top;\n",
       "    }\n",
       "\n",
       "    .dataframe thead th {\n",
       "        text-align: right;\n",
       "    }\n",
       "</style>\n",
       "<table border=\"1\" class=\"dataframe\">\n",
       "  <thead>\n",
       "    <tr style=\"text-align: right;\">\n",
       "      <th></th>\n",
       "      <th>Unnamed: 0</th>\n",
       "      <th>tconst</th>\n",
       "      <th>averageRating</th>\n",
       "      <th>numVotes</th>\n",
       "      <th>title</th>\n",
       "      <th>region</th>\n",
       "      <th>language</th>\n",
       "    </tr>\n",
       "  </thead>\n",
       "  <tbody>\n",
       "    <tr>\n",
       "      <th>0</th>\n",
       "      <td>0</td>\n",
       "      <td>tt0000002</td>\n",
       "      <td>5.6</td>\n",
       "      <td>282</td>\n",
       "      <td>Le clown et ses chiens</td>\n",
       "      <td>FR</td>\n",
       "      <td>\\N</td>\n",
       "    </tr>\n",
       "    <tr>\n",
       "      <th>1</th>\n",
       "      <td>1</td>\n",
       "      <td>tt0000003</td>\n",
       "      <td>6.5</td>\n",
       "      <td>2121</td>\n",
       "      <td>Pauvre Pierrot</td>\n",
       "      <td>FR</td>\n",
       "      <td>\\N</td>\n",
       "    </tr>\n",
       "    <tr>\n",
       "      <th>2</th>\n",
       "      <td>2</td>\n",
       "      <td>tt0000004</td>\n",
       "      <td>5.4</td>\n",
       "      <td>182</td>\n",
       "      <td>Un bon bock</td>\n",
       "      <td>FR</td>\n",
       "      <td>\\N</td>\n",
       "    </tr>\n",
       "    <tr>\n",
       "      <th>3</th>\n",
       "      <td>3</td>\n",
       "      <td>tt0000010</td>\n",
       "      <td>6.8</td>\n",
       "      <td>7763</td>\n",
       "      <td>La sortie de l'usine Lumière</td>\n",
       "      <td>FR</td>\n",
       "      <td>\\N</td>\n",
       "    </tr>\n",
       "    <tr>\n",
       "      <th>4</th>\n",
       "      <td>4</td>\n",
       "      <td>tt0000010</td>\n",
       "      <td>6.8</td>\n",
       "      <td>7763</td>\n",
       "      <td>La sortie des ouvriers de l'usine Lumière</td>\n",
       "      <td>FR</td>\n",
       "      <td>\\N</td>\n",
       "    </tr>\n",
       "  </tbody>\n",
       "</table>\n",
       "</div>"
      ],
      "text/plain": [
       "   Unnamed: 0     tconst  averageRating  numVotes  \\\n",
       "0           0  tt0000002            5.6       282   \n",
       "1           1  tt0000003            6.5      2121   \n",
       "2           2  tt0000004            5.4       182   \n",
       "3           3  tt0000010            6.8      7763   \n",
       "4           4  tt0000010            6.8      7763   \n",
       "\n",
       "                                       title region language  \n",
       "0                     Le clown et ses chiens     FR       \\N  \n",
       "1                             Pauvre Pierrot     FR       \\N  \n",
       "2                                Un bon bock     FR       \\N  \n",
       "3               La sortie de l'usine Lumière     FR       \\N  \n",
       "4  La sortie des ouvriers de l'usine Lumière     FR       \\N  "
      ]
     },
     "execution_count": 10,
     "metadata": {},
     "output_type": "execute_result"
    }
   ],
   "source": [
    "df_fr_note = pd.read_csv('film_fr_notes.csv') \n",
    "df_fr_note.head()"
   ]
  },
  {
   "cell_type": "code",
   "execution_count": 11,
   "metadata": {
    "metadata": {}
   },
   "outputs": [
    {
     "data": {
      "text/html": [
       "<div>\n",
       "<style scoped>\n",
       "    .dataframe tbody tr th:only-of-type {\n",
       "        vertical-align: middle;\n",
       "    }\n",
       "\n",
       "    .dataframe tbody tr th {\n",
       "        vertical-align: top;\n",
       "    }\n",
       "\n",
       "    .dataframe thead th {\n",
       "        text-align: right;\n",
       "    }\n",
       "</style>\n",
       "<table border=\"1\" class=\"dataframe\">\n",
       "  <thead>\n",
       "    <tr style=\"text-align: right;\">\n",
       "      <th></th>\n",
       "      <th>Unnamed: 0</th>\n",
       "      <th>tconst</th>\n",
       "      <th>averageRating</th>\n",
       "      <th>numVotes</th>\n",
       "      <th>title</th>\n",
       "      <th>region</th>\n",
       "      <th>language</th>\n",
       "      <th>titleType</th>\n",
       "      <th>primaryTitle</th>\n",
       "      <th>originalTitle</th>\n",
       "      <th>isAdult</th>\n",
       "      <th>startYear</th>\n",
       "      <th>endYear</th>\n",
       "      <th>runtimeMinutes</th>\n",
       "      <th>genres</th>\n",
       "    </tr>\n",
       "  </thead>\n",
       "  <tbody>\n",
       "    <tr>\n",
       "      <th>0</th>\n",
       "      <td>217</td>\n",
       "      <td>tt0000591</td>\n",
       "      <td>5.7</td>\n",
       "      <td>28</td>\n",
       "      <td>L'enfant prodigue</td>\n",
       "      <td>FR</td>\n",
       "      <td>\\N</td>\n",
       "      <td>movie</td>\n",
       "      <td>The Prodigal Son</td>\n",
       "      <td>L'enfant prodigue</td>\n",
       "      <td>0</td>\n",
       "      <td>1907</td>\n",
       "      <td>\\N</td>\n",
       "      <td>90</td>\n",
       "      <td>[Drama]</td>\n",
       "    </tr>\n",
       "    <tr>\n",
       "      <th>1</th>\n",
       "      <td>236</td>\n",
       "      <td>tt0000886</td>\n",
       "      <td>4.7</td>\n",
       "      <td>40</td>\n",
       "      <td>Hamlet</td>\n",
       "      <td>FR</td>\n",
       "      <td>\\N</td>\n",
       "      <td>movie</td>\n",
       "      <td>Hamlet, Prince of Denmark</td>\n",
       "      <td>Hamlet</td>\n",
       "      <td>0</td>\n",
       "      <td>1910</td>\n",
       "      <td>\\N</td>\n",
       "      <td>\\N</td>\n",
       "      <td>[Drama]</td>\n",
       "    </tr>\n",
       "    <tr>\n",
       "      <th>2</th>\n",
       "      <td>245</td>\n",
       "      <td>tt0001101</td>\n",
       "      <td>5.1</td>\n",
       "      <td>41</td>\n",
       "      <td>La Clémence d'Abraham Lincoln</td>\n",
       "      <td>FR</td>\n",
       "      <td>\\N</td>\n",
       "      <td>movie</td>\n",
       "      <td>Abraham Lincoln's Clemency</td>\n",
       "      <td>Abraham Lincoln's Clemency</td>\n",
       "      <td>0</td>\n",
       "      <td>1910</td>\n",
       "      <td>\\N</td>\n",
       "      <td>\\N</td>\n",
       "      <td>[\\N]</td>\n",
       "    </tr>\n",
       "    <tr>\n",
       "      <th>3</th>\n",
       "      <td>246</td>\n",
       "      <td>tt0001175</td>\n",
       "      <td>5.3</td>\n",
       "      <td>44</td>\n",
       "      <td>La dame aux camélias</td>\n",
       "      <td>FR</td>\n",
       "      <td>\\N</td>\n",
       "      <td>movie</td>\n",
       "      <td>Camille</td>\n",
       "      <td>La dame aux camélias</td>\n",
       "      <td>0</td>\n",
       "      <td>1912</td>\n",
       "      <td>\\N</td>\n",
       "      <td>\\N</td>\n",
       "      <td>[Drama, Romance]</td>\n",
       "    </tr>\n",
       "    <tr>\n",
       "      <th>4</th>\n",
       "      <td>251</td>\n",
       "      <td>tt0001285</td>\n",
       "      <td>5.5</td>\n",
       "      <td>63</td>\n",
       "      <td>La Vie de Moïse</td>\n",
       "      <td>FR</td>\n",
       "      <td>\\N</td>\n",
       "      <td>movie</td>\n",
       "      <td>The Life of Moses</td>\n",
       "      <td>The Life of Moses</td>\n",
       "      <td>0</td>\n",
       "      <td>1909</td>\n",
       "      <td>\\N</td>\n",
       "      <td>50</td>\n",
       "      <td>[Biography, Drama, Family]</td>\n",
       "    </tr>\n",
       "    <tr>\n",
       "      <th>...</th>\n",
       "      <td>...</td>\n",
       "      <td>...</td>\n",
       "      <td>...</td>\n",
       "      <td>...</td>\n",
       "      <td>...</td>\n",
       "      <td>...</td>\n",
       "      <td>...</td>\n",
       "      <td>...</td>\n",
       "      <td>...</td>\n",
       "      <td>...</td>\n",
       "      <td>...</td>\n",
       "      <td>...</td>\n",
       "      <td>...</td>\n",
       "      <td>...</td>\n",
       "      <td>...</td>\n",
       "    </tr>\n",
       "    <tr>\n",
       "      <th>92093</th>\n",
       "      <td>137556</td>\n",
       "      <td>tt9913084</td>\n",
       "      <td>6.7</td>\n",
       "      <td>55</td>\n",
       "      <td>Diabolik sono io</td>\n",
       "      <td>FR</td>\n",
       "      <td>\\N</td>\n",
       "      <td>movie</td>\n",
       "      <td>Diabolik Is Me</td>\n",
       "      <td>Diabolik sono io</td>\n",
       "      <td>0</td>\n",
       "      <td>2019</td>\n",
       "      <td>\\N</td>\n",
       "      <td>75</td>\n",
       "      <td>[Documentary]</td>\n",
       "    </tr>\n",
       "    <tr>\n",
       "      <th>92094</th>\n",
       "      <td>137558</td>\n",
       "      <td>tt9913936</td>\n",
       "      <td>7.4</td>\n",
       "      <td>61</td>\n",
       "      <td>Le paradis de Diego</td>\n",
       "      <td>FR</td>\n",
       "      <td>\\N</td>\n",
       "      <td>movie</td>\n",
       "      <td>Paradise</td>\n",
       "      <td>Paradise</td>\n",
       "      <td>0</td>\n",
       "      <td>2019</td>\n",
       "      <td>\\N</td>\n",
       "      <td>135</td>\n",
       "      <td>[Crime, Drama]</td>\n",
       "    </tr>\n",
       "    <tr>\n",
       "      <th>92095</th>\n",
       "      <td>137560</td>\n",
       "      <td>tt9915022</td>\n",
       "      <td>4.9</td>\n",
       "      <td>129</td>\n",
       "      <td>Yarali Kuslar</td>\n",
       "      <td>FR</td>\n",
       "      <td>\\N</td>\n",
       "      <td>tvSeries</td>\n",
       "      <td>Yarali Kuslar</td>\n",
       "      <td>Yarali Kuslar</td>\n",
       "      <td>0</td>\n",
       "      <td>2019</td>\n",
       "      <td>2019</td>\n",
       "      <td>90</td>\n",
       "      <td>[Drama]</td>\n",
       "    </tr>\n",
       "    <tr>\n",
       "      <th>92096</th>\n",
       "      <td>137562</td>\n",
       "      <td>tt9915790</td>\n",
       "      <td>7.0</td>\n",
       "      <td>44</td>\n",
       "      <td>Bobbyr Bondhura</td>\n",
       "      <td>FR</td>\n",
       "      <td>\\N</td>\n",
       "      <td>movie</td>\n",
       "      <td>Bobbyr Bondhura</td>\n",
       "      <td>Bobbyr Bondhura</td>\n",
       "      <td>0</td>\n",
       "      <td>2019</td>\n",
       "      <td>\\N</td>\n",
       "      <td>106</td>\n",
       "      <td>[Family]</td>\n",
       "    </tr>\n",
       "    <tr>\n",
       "      <th>92097</th>\n",
       "      <td>137565</td>\n",
       "      <td>tt9916362</td>\n",
       "      <td>6.4</td>\n",
       "      <td>5940</td>\n",
       "      <td>Les sorcières d'Akelarre</td>\n",
       "      <td>FR</td>\n",
       "      <td>\\N</td>\n",
       "      <td>movie</td>\n",
       "      <td>Coven</td>\n",
       "      <td>Akelarre</td>\n",
       "      <td>0</td>\n",
       "      <td>2020</td>\n",
       "      <td>\\N</td>\n",
       "      <td>92</td>\n",
       "      <td>[Drama, History]</td>\n",
       "    </tr>\n",
       "  </tbody>\n",
       "</table>\n",
       "<p>92098 rows × 15 columns</p>\n",
       "</div>"
      ],
      "text/plain": [
       "       Unnamed: 0     tconst  averageRating  numVotes  \\\n",
       "0             217  tt0000591            5.7        28   \n",
       "1             236  tt0000886            4.7        40   \n",
       "2             245  tt0001101            5.1        41   \n",
       "3             246  tt0001175            5.3        44   \n",
       "4             251  tt0001285            5.5        63   \n",
       "...           ...        ...            ...       ...   \n",
       "92093      137556  tt9913084            6.7        55   \n",
       "92094      137558  tt9913936            7.4        61   \n",
       "92095      137560  tt9915022            4.9       129   \n",
       "92096      137562  tt9915790            7.0        44   \n",
       "92097      137565  tt9916362            6.4      5940   \n",
       "\n",
       "                               title region language titleType  \\\n",
       "0                  L'enfant prodigue     FR       \\N     movie   \n",
       "1                             Hamlet     FR       \\N     movie   \n",
       "2      La Clémence d'Abraham Lincoln     FR       \\N     movie   \n",
       "3               La dame aux camélias     FR       \\N     movie   \n",
       "4                    La Vie de Moïse     FR       \\N     movie   \n",
       "...                              ...    ...      ...       ...   \n",
       "92093               Diabolik sono io     FR       \\N     movie   \n",
       "92094            Le paradis de Diego     FR       \\N     movie   \n",
       "92095                  Yarali Kuslar     FR       \\N  tvSeries   \n",
       "92096                Bobbyr Bondhura     FR       \\N     movie   \n",
       "92097       Les sorcières d'Akelarre     FR       \\N     movie   \n",
       "\n",
       "                     primaryTitle               originalTitle isAdult  \\\n",
       "0                The Prodigal Son           L'enfant prodigue       0   \n",
       "1       Hamlet, Prince of Denmark                      Hamlet       0   \n",
       "2      Abraham Lincoln's Clemency  Abraham Lincoln's Clemency       0   \n",
       "3                         Camille        La dame aux camélias       0   \n",
       "4               The Life of Moses           The Life of Moses       0   \n",
       "...                           ...                         ...     ...   \n",
       "92093              Diabolik Is Me            Diabolik sono io       0   \n",
       "92094                    Paradise                    Paradise       0   \n",
       "92095               Yarali Kuslar               Yarali Kuslar       0   \n",
       "92096             Bobbyr Bondhura             Bobbyr Bondhura       0   \n",
       "92097                       Coven                    Akelarre       0   \n",
       "\n",
       "      startYear endYear runtimeMinutes                      genres  \n",
       "0          1907      \\N             90                     [Drama]  \n",
       "1          1910      \\N             \\N                     [Drama]  \n",
       "2          1910      \\N             \\N                        [\\N]  \n",
       "3          1912      \\N             \\N            [Drama, Romance]  \n",
       "4          1909      \\N             50  [Biography, Drama, Family]  \n",
       "...         ...     ...            ...                         ...  \n",
       "92093      2019      \\N             75               [Documentary]  \n",
       "92094      2019      \\N            135              [Crime, Drama]  \n",
       "92095      2019    2019             90                     [Drama]  \n",
       "92096      2019      \\N            106                    [Family]  \n",
       "92097      2020      \\N             92            [Drama, History]  \n",
       "\n",
       "[92098 rows x 15 columns]"
      ]
     },
     "execution_count": 11,
     "metadata": {},
     "output_type": "execute_result"
    }
   ],
   "source": [
    "big_df = df_fr_note.merge(\n",
    "    right=df_film,\n",
    "    how='inner',\n",
    "    on='tconst'\n",
    ")\n",
    "big_df"
   ]
  },
  {
   "cell_type": "code",
   "execution_count": 12,
   "metadata": {
    "metadata": {}
   },
   "outputs": [
    {
     "name": "stdout",
     "output_type": "stream",
     "text": [
      "<class 'pandas.core.frame.DataFrame'>\n",
      "RangeIndex: 92098 entries, 0 to 92097\n",
      "Data columns (total 13 columns):\n",
      " #   Column          Non-Null Count  Dtype  \n",
      "---  ------          --------------  -----  \n",
      " 0   tconst          92098 non-null  object \n",
      " 1   averageRating   92098 non-null  float64\n",
      " 2   numVotes        92098 non-null  int64  \n",
      " 3   title           92098 non-null  object \n",
      " 4   region          92098 non-null  object \n",
      " 5   language        92098 non-null  object \n",
      " 6   titleType       92098 non-null  object \n",
      " 7   primaryTitle    92098 non-null  object \n",
      " 8   isAdult         92098 non-null  object \n",
      " 9   startYear       92098 non-null  object \n",
      " 10  endYear         92098 non-null  object \n",
      " 11  runtimeMinutes  92098 non-null  object \n",
      " 12  genres          92098 non-null  object \n",
      "dtypes: float64(1), int64(1), object(11)\n",
      "memory usage: 9.1+ MB\n"
     ]
    }
   ],
   "source": [
    "big_df.drop([\n",
    "    'Unnamed: 0',\n",
    "    'originalTitle'\n",
    "    ],\n",
    "    axis=1,\n",
    "    inplace=True)\n",
    "big_df.info()"
   ]
  },
  {
   "cell_type": "code",
   "execution_count": 13,
   "metadata": {
    "metadata": {}
   },
   "outputs": [],
   "source": [
    "big_df.to_csv('film_serie_fr_notes.csv')"
   ]
  }
 ],
 "metadata": {
  "kernelspec": {
   "display_name": "base",
   "language": "python",
   "name": "python3"
  },
  "language_info": {
   "codemirror_mode": {
    "name": "ipython",
    "version": 3
   },
   "file_extension": ".py",
   "mimetype": "text/x-python",
   "name": "python",
   "nbconvert_exporter": "python",
   "pygments_lexer": "ipython3",
   "version": "3.12.4"
  }
 },
 "nbformat": 4,
 "nbformat_minor": 2
}
